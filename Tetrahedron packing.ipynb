{
 "metadata": {
  "name": ""
 },
 "nbformat": 3,
 "nbformat_minor": 0,
 "worksheets": [
  {
   "cells": [
    {
     "cell_type": "code",
     "collapsed": false,
     "input": [
      "import numpy as np\n",
      "import OCC\n",
      "import OCC.gp\n",
      "import OCC.TopoDS\n",
      "import OCC.BRepOffsetAPI\n",
      "import OCC.BRepPrimAPI\n",
      "import OCC.BRepBuilderAPI\n",
      "import OCC.BRepAlgoAPI\n",
      "from OCC.DataExchange import STEP\n",
      "import OCC.GProp\n",
      "import OCC.BRepGProp\n",
      "from OCC.BRepClass3d import BRepClass3d_SolidClassifier\n",
      "import random\n",
      "from deap import base\n",
      "from deap import creator\n",
      "from deap import tools\n",
      "from deap import algorithms\n",
      "from itertools import product, combinations"
     ],
     "language": "python",
     "metadata": {},
     "outputs": [],
     "prompt_number": 1
    },
    {
     "cell_type": "code",
     "collapsed": false,
     "input": [
      "def rotate(vect, theta, phi):\n",
      "    \"\"\"Perform a rotation of a vector so that its z-axis lies along the spherical theta and phi angles.\"\"\"\n",
      "    \n",
      "    R = np.array([[np.cos(phi)*np.cos(theta), -np.sin(phi), np.cos(phi)*np.sin(theta)],\n",
      "                  [np.sin(phi)*np.cos(theta), np.cos(phi), np.sin(phi)*np.sin(theta)],\n",
      "                  [-np.sin(theta), 0, np.cos(theta)]])\n",
      "    return R.dot(np.array(vect).reshape((3,1)))"
     ],
     "language": "python",
     "metadata": {},
     "outputs": [],
     "prompt_number": 2
    },
    {
     "cell_type": "code",
     "collapsed": false,
     "input": [
      "def makeface(p1, p2, p3):\n",
      "    \"\"\"Make a triangular face from three points.\"\"\"\n",
      "    thepolygon = OCC.BRepBuilderAPI.BRepBuilderAPI_MakePolygon()\n",
      "\n",
      "    for point in [p1, p2, p3]:\n",
      "        thevertbuilder = OCC.BRepBuilderAPI.BRepBuilderAPI_MakeVertex(point)\n",
      "        thevertbuilder.Build()\n",
      "        thepolygon.Add(OCC.TopoDS.TopoDS_vertex(thevertbuilder.Shape()))\n",
      "\n",
      "    thepolygon.Close()\n",
      "    thepolygon.Build()\n",
      "    \n",
      "    thewire = OCC.TopoDS.TopoDS_wire(thepolygon.Shape())\n",
      "\n",
      "    facebuilder = OCC.BRepBuilderAPI.BRepBuilderAPI_MakeFace(thewire)\n",
      "    facebuilder.Build()\n",
      "    \n",
      "    return facebuilder.Shape()"
     ],
     "language": "python",
     "metadata": {},
     "outputs": [],
     "prompt_number": 3
    },
    {
     "cell_type": "heading",
     "level": 3,
     "metadata": {},
     "source": [
      "Tetrahedron"
     ]
    },
    {
     "cell_type": "code",
     "collapsed": false,
     "input": [
      "def fix_orientation(shape):\n",
      "    \"\"\"Make sure shape is right side out.\"\"\"\n",
      "    classify = BRepClass3d_SolidClassifier()\n",
      "    classify.Load(shape)\n",
      "    classify.PerformInfinitePoint(1.0e-4)\n",
      "    #print \"state is: \",type(classify.State()), classify.State()\n",
      "    if classify.State()==0:\n",
      "        shape.Reverse()\n",
      "    return shape\n",
      "\n",
      "\n",
      "class Tetrahedron:\n",
      "    \"\"\"Tetrahedron class for packing.\"\"\"\n",
      "    def __init__(self, px, py, pz, theta, phi, gamma, debug=False):\n",
      "        \"\"\"Make a tetrahedron from a position and three directional angles\"\"\"\n",
      "        self.params = (px, py, pz, theta, phi, gamma)\n",
      "        if debug:\n",
      "            print \"creating tet:\", self.params\n",
      "        self.points = []\n",
      "        # make points 0-3\n",
      "        # point 0 is simply passed in as the location of the tetrahedron\n",
      "        self.points.append(OCC.gp.gp_Pnt(px, py, pz))\n",
      "    \n",
      "        # point 1 comes from the first two angles; spherical theta and phi from an origin at point 0\n",
      "        # the radius is fixed at 1\n",
      "        dx, dy, dz = rotate((0,0,1), theta, phi)\n",
      "        self.points.append(OCC.gp.gp_Pnt(px+dx[0], py+dy[0], pz+dz[0]))\n",
      "\n",
      "        intermediate = rotate((0,0,1), np.pi/3.0, gamma)\n",
      "        dx2, dy2, dz2 = rotate(intermediate, theta, phi)\n",
      "        self.points.append(OCC.gp.gp_Pnt(px+dx2[0], py+dy2[0], pz+dz2[0]))\n",
      "\n",
      "        intermediate = rotate((0,0,1), np.pi/3.0, gamma+2*np.arcsin(1/np.sqrt(3)))\n",
      "        dx2, dy2, dz2 = rotate(intermediate, theta, phi)\n",
      "        self.points.append(OCC.gp.gp_Pnt(px+dx2[0], py+dy2[0], pz+dz2[0]))\n",
      "\n",
      "        # make faces\n",
      "        self.faces = []\n",
      "        self.faces.append(makeface(self.points[0], self.points[1], self.points[2]))\n",
      "        self.faces.append(makeface(self.points[0], self.points[3], self.points[1]))\n",
      "        self.faces.append(makeface(self.points[0], self.points[2], self.points[3]))\n",
      "        self.faces.append(makeface(self.points[2], self.points[3], self.points[1]))\n",
      "        \n",
      "        # faces into shell\n",
      "        sewing = OCC.BRepBuilderAPI.BRepBuilderAPI_Sewing()\n",
      "        for face in self.faces:\n",
      "            sewing.Add(face)\n",
      "        sewing.Perform()\n",
      "        sewed_shape = sewing.SewedShape() \n",
      "        tds = OCC.TopoDS.TopoDS()\n",
      "\n",
      "        # make solid\n",
      "        solidbuilder = OCC.BRepBuilderAPI.BRepBuilderAPI_MakeSolid(tds.shell(sewed_shape))\n",
      "        solidbuilder.Build()\n",
      "        self.solid = fix_orientation(solidbuilder.Shape())\n",
      "        if debug:\n",
      "            print \"my volume is:\", self.volume()\n",
      "        \n",
      "    def export(self, filename):\n",
      "        \"\"\"Export geometry as a STEP file for visual inspection.\"\"\"\n",
      "        exporter = STEP.STEPExporter(filename)\n",
      "        exporter.add_shape(self.solid)\n",
      "        exporter.write_file()\n",
      "        \n",
      "    def volume(self):\n",
      "        \"\"\"Calculate volume.\n",
      "        \n",
      "        We could do this with a formula, but this serves as a test that the geometry was created\n",
      "        correctly.\"\"\"\n",
      "        \n",
      "        gprop = OCC.GProp.GProp_GProps()\n",
      "        OCC.BRepGProp.BRepGProp_VolumeProperties(tet.solid, gprop)\n",
      "        return gprop.Mass()"
     ],
     "language": "python",
     "metadata": {},
     "outputs": [],
     "prompt_number": 4
    },
    {
     "cell_type": "code",
     "collapsed": false,
     "input": [
      "tet = Tetrahedron(0,0,0,0,0,0)"
     ],
     "language": "python",
     "metadata": {},
     "outputs": [],
     "prompt_number": 5
    },
    {
     "cell_type": "code",
     "collapsed": false,
     "input": [
      "tet.export(\"tet.STEP\")"
     ],
     "language": "python",
     "metadata": {},
     "outputs": [
      {
       "output_type": "stream",
       "stream": "stdout",
       "text": [
        "STEP transfer successful.\n"
       ]
      }
     ],
     "prompt_number": 6
    },
    {
     "cell_type": "code",
     "collapsed": false,
     "input": [
      "tet.volume()"
     ],
     "language": "python",
     "metadata": {},
     "outputs": [
      {
       "metadata": {},
       "output_type": "pyout",
       "prompt_number": 7,
       "text": [
        "0.11785113019775793"
       ]
      }
     ],
     "prompt_number": 7
    },
    {
     "cell_type": "heading",
     "level": 3,
     "metadata": {},
     "source": [
      "Unit Cell"
     ]
    },
    {
     "cell_type": "code",
     "collapsed": false,
     "input": [
      "def get_intersection_volume(shape1, shape2):\n",
      "    # take intersection, add volume to running total.\n",
      "    common = OCC.BRepAlgoAPI.BRepAlgoAPI_Common(shape1, shape2)\n",
      "    common.Build()\n",
      "    common_volume = common.Shape()\n",
      "    gprop = OCC.GProp.GProp_GProps()\n",
      "    OCC.BRepGProp.BRepGProp_VolumeProperties(common_volume, gprop)\n",
      "    return gprop.Mass()\n",
      "\n",
      "class UnitCell:\n",
      "    def __init__(self, basis, tets):\n",
      "        # parse the inputs\n",
      "        #print \"parsing basis\"\n",
      "        self.basis, self.aspect = self.parse_basis(basis)\n",
      "        #print \"parsing tets\"\n",
      "        self.tets, self.union = self.parse_tets(list(tets))\n",
      "        \n",
      "        # calculate derived quantities\n",
      "        #print \"calculating volumes\"\n",
      "        self.unionvol, self.ucvol = self.calculate_volumes()\n",
      "        #print self.unionvol, self.ucvol\n",
      "        #print \"computing density: \", self.unionvol, self.ucvol\n",
      "        # fix for pathological situations:\n",
      "        if self.ucvol < self.unionvol:\n",
      "            self.density=0.0\n",
      "        else:\n",
      "            self.density = self.unionvol/self.ucvol\n",
      "            \n",
      "        #print \"internal overlap\"\n",
      "        self.internal_overlap = self.calculate_internal_overlap()/self.unionvol\n",
      "        #print \"external overlap\"\n",
      "        self.external_overlap = self.calculate_external_overlap()/self.unionvol\n",
      "        #print \"done\"\n",
      "        \n",
      "    def parse_basis(self, basis):\n",
      "        \"\"\"Turn lattice parameters into x,y,z coordinates for each vector.\"\"\"\n",
      "        \n",
      "        # first unpack\n",
      "        ax, ay, b, cx, cy, cz = basis\n",
      "\n",
      "        coorda = np.array((ax, ay, 0))\n",
      "        xyza = OCC.gp.gp_XYZ(coorda[0], coorda[1], coorda[2])\n",
      "        veca = OCC.gp.gp_Vec(xyza)\n",
      "        maga = veca.Magnitude()\n",
      "        \n",
      "        coordb = np.array((0,b,0))\n",
      "        xyzb = OCC.gp.gp_XYZ(coordb[0], coordb[1], coordb[2])\n",
      "        vecb = OCC.gp.gp_Vec(xyzb)\n",
      "        magb = vecb.Magnitude()\n",
      "        \n",
      "        coordc = np.array((cx, cy, cz))\n",
      "        xyzc = OCC.gp.gp_XYZ(coordc[0], coordc[1], coordc[2])\n",
      "        vecc = OCC.gp.gp_Vec(xyzc)\n",
      "        magc = vecc.Magnitude()\n",
      "        \n",
      "        aspect = np.max((maga, magb, magc))/np.min((maga, magb, magc))\n",
      "        \n",
      "        return (veca, vecb, vecc), aspect\n",
      "\n",
      "    def make_edges(self):\n",
      "        origin = OCC.gp.gp_Pnt(0,0,0)\n",
      "        edges = []\n",
      "        for vec in self.basis:\n",
      "            thepoint = OCC.gp.gp_Pnt(*vec.Coord())\n",
      "            edgebuilder = OCC.BRepBuilderAPI.BRepBuilderAPI_MakeEdge(origin, thepoint)\n",
      "            edgebuilder.Build()\n",
      "            edges.append(edgebuilder.Shape())\n",
      "\n",
      "        edgeunion = edges.pop()\n",
      "        for edge in edges:\n",
      "            fuse = OCC.BRepAlgoAPI.BRepAlgoAPI_Fuse(edgeunion, edge)\n",
      "            fuse.Build()\n",
      "            edgeunion = fuse.Shape()\n",
      "        return edgeunion            \n",
      "    \n",
      "    def parse_tets(self, tets):\n",
      "        \"\"\"Turn a list of location/orientations into geometry.\n",
      "        \n",
      "        Each tetrahedron is specified by three coordinates and three angles.\n",
      "        \"\"\"\n",
      "        tetlist = []\n",
      "        while tets:\n",
      "            px,py,pz,theta,phi,gamma = tets[0:6]\n",
      "            del tets[0:6]\n",
      "            tetlist.append(Tetrahedron(px,py,pz,theta,phi,gamma))\n",
      "            \n",
      "        tetsolids = [tet.solid for tet in tetlist]\n",
      "        usol = fix_orientation(tetsolids.pop())\n",
      "        for solid in tetsolids:\n",
      "            fuse = OCC.BRepAlgoAPI.BRepAlgoAPI_Fuse(usol, fix_orientation(solid))\n",
      "            fuse.Build()\n",
      "            usol = fuse.Shape()\n",
      "        return tetlist, usol\n",
      "\n",
      "    def calculate_volumes(self):\n",
      "        \"\"\"Calculate the volumes of the tetrahedra and unit cell\"\"\"\n",
      "        # get the volume of the union object                \n",
      "        gprop = OCC.GProp.GProp_GProps()\n",
      "        OCC.BRepGProp.BRepGProp_VolumeProperties(self.union, gprop)\n",
      "        unionvol = gprop.Mass()\n",
      "        \n",
      "        # get the volume of the unit cell\n",
      "        ucvol = self.basis[0].DotCross(self.basis[1],self.basis[2])\n",
      "        # return both volumes\n",
      "        return unionvol,ucvol\n",
      "\n",
      "    def calculate_internal_overlap(self):\n",
      "        \"\"\"Calculate the intersection between pairs of tets within the unit cell.\"\"\"\n",
      "        intersection_volume=0.0\n",
      "        tetsolids = [tet.solid for tet in self.tets]\n",
      "        while tetsolids:\n",
      "            basetet = tetsolids.pop()\n",
      "            for tetsolid in tetsolids:\n",
      "                intersection_volume += get_intersection_volume(basetet, tetsolid)\n",
      "        return intersection_volume\n",
      "    \n",
      "    def calculate_external_overlap(self):\n",
      "        \"\"\"Calculate the intersection with tets in adjacent unit cells.\"\"\"\n",
      "        # make adjacent unit cells to check for overlap\n",
      "        intersection_volume = 0.0\n",
      "        \n",
      "        # figure out all pairwise interactions\n",
      "        edge = xrange(np.ceil(self.aspect).astype(int))\n",
      "        cellcube = product(edge, repeat=3)\n",
      "        pairs = combinations(cellcube, 2)\n",
      "        \n",
      "        oldbase = None\n",
      "        for pair in pairs:\n",
      "            base = pair[0]\n",
      "            adj = pair[1]\n",
      "            if oldbase != base:\n",
      "                basetet = self.adjacent_tets(base[0], base[1], base[2])\n",
      "            adjtet = self.adjacent_tets(adj[0], adj[1], adj[2])\n",
      "            intersection_volume += get_intersection_volume(basetet, adjtet)\n",
      "            oldbase = base\n",
      "            \n",
      "        return intersection_volume\n",
      "\n",
      "    def adjacent_tets(self, n1, n2, n3):\n",
      "        \"\"\"Produce the tetrahedra in another unit cell.\n",
      "        \n",
      "        The desired cell is n1 copies of basis vector 1 away, and so on.\n",
      "        \"\"\"\n",
      "        base = self.union\n",
      "        for scalevector in zip(self.basis, (n1, n2, n3)):\n",
      "            transvec = OCC.gp.gp_Vec(scalevector[0])\n",
      "            transvec.Multiply(scalevector[1])\n",
      "            shift = OCC.gp.gp_Trsf()\n",
      "            shift.SetTranslation(transvec)\n",
      "            shifted = OCC.BRepBuilderAPI.BRepBuilderAPI_Transform(base, shift)\n",
      "            base = fix_orientation(shifted.Shape())\n",
      "        return base\n",
      "\n",
      "    def output_basis(self):\n",
      "        \"\"\"Write the basis vectors of the unit cell in the required format.\"\"\"\n",
      "        return\n",
      "    \n",
      "    def output_tets(self):\n",
      "        \"\"\"write the vertices of the tets in the required format.\"\"\"\n",
      "        return\n",
      "    \n",
      "    def export(self, filename, full=False, cell=False):\n",
      "        \"\"\"export for visualization.\"\"\"\n",
      "        exporter = STEP.STEPExporter(filename)\n",
      "        tets = self.union\n",
      "        if full:\n",
      "            edge = xrange(np.ceil(self.aspect).astype(int))\n",
      "            cellcube = product(edge, repeat=3)\n",
      "            for cell in cellcube:\n",
      "                adjtets = self.adjacent_tets(cell[0], cell[1], cell[2])\n",
      "                fuse = OCC.BRepAlgoAPI.BRepAlgoAPI_Fuse(tets, fix_orientation(adjtets))\n",
      "                fuse.Build()\n",
      "                tets = fuse.Shape()\n",
      "\n",
      "                \n",
      "\n",
      "        origin = OCC.gp.gp_Pnt(0,0,0)\n",
      "        thevertbuilder = OCC.BRepBuilderAPI.BRepBuilderAPI_MakeVertex(origin)\n",
      "        thevertbuilder.Build()\n",
      "        overt = OCC.TopoDS.TopoDS_vertex(thevertbuilder.Shape())\n",
      "        vecs = self.basis\n",
      "        line = OCC.BRepPrimAPI.BRepPrimAPI_MakePrism(overt, vecs[0])\n",
      "        face = OCC.BRepPrimAPI.BRepPrimAPI_MakePrism(line.Shape(), vecs[1])\n",
      "        pped = OCC.BRepPrimAPI.BRepPrimAPI_MakePrism(face.Shape(), vecs[2])\n",
      "        vol = pped.Shape()\n",
      "        \n",
      "        exporter.add_shape(tets)\n",
      "        if cell:\n",
      "            exporter.add_shape(vol)\n",
      "        exporter.write_file()\n",
      " \n",
      "        return"
     ],
     "language": "python",
     "metadata": {},
     "outputs": [],
     "prompt_number": 8
    },
    {
     "cell_type": "code",
     "collapsed": false,
     "input": [
      "uctest = UnitCell((1,0,1,0,0,1),(0,0,0,0,0,0, 0,0,0,0,0,np.pi/2))\n",
      "print uctest.density, uctest.external_overlap, uctest.internal_overlap"
     ],
     "language": "python",
     "metadata": {},
     "outputs": [
      {
       "output_type": "stream",
       "stream": "stdout",
       "text": [
        "0.235702260396 0.0 0.0\n"
       ]
      }
     ],
     "prompt_number": 9
    },
    {
     "cell_type": "code",
     "collapsed": false,
     "input": [
      "uctest.export(\"union.STEP\", full=True, cell=True)"
     ],
     "language": "python",
     "metadata": {},
     "outputs": [
      {
       "output_type": "stream",
       "stream": "stdout",
       "text": [
        "STEP transfer successful.\n"
       ]
      }
     ],
     "prompt_number": 10
    },
    {
     "cell_type": "code",
     "collapsed": false,
     "input": [],
     "language": "python",
     "metadata": {},
     "outputs": [],
     "prompt_number": 10
    },
    {
     "cell_type": "heading",
     "level": 3,
     "metadata": {},
     "source": [
      "Genetic algorithm for optimization"
     ]
    },
    {
     "cell_type": "code",
     "collapsed": false,
     "input": [
      "def test_fitness(individual):\n",
      "    basis = individual[0:6]\n",
      "    tets = individual[6:]\n",
      "    the_uc = UnitCell(basis, tets)\n",
      "    \n",
      "    # these will be minimized, so penalties are positive\n",
      "    internal_term = the_uc.internal_overlap + np.sign(the_uc.internal_overlap)*the_uc.density\n",
      "    external_term = the_uc.external_overlap + np.sign(the_uc.external_overlap)*the_uc.density\n",
      "    aspect_term = the_uc.aspect\n",
      "    \n",
      "    #print \"terms:\", internal_term, external_term\n",
      "    return (the_uc.density - internal_term - external_term - aspect_term, )"
     ],
     "language": "python",
     "metadata": {},
     "outputs": [],
     "prompt_number": 11
    },
    {
     "cell_type": "code",
     "collapsed": false,
     "input": [
      "# fitness weights for unit cell.\n",
      "creator.create(\"FitnessUC\", base.Fitness, weights=(1.0, ))\n",
      "creator.create(\"Individual\", list, fitness=creator.FitnessUC)\n",
      "\n",
      "# 6 for unit cell, 6 for each tetrahedron\n",
      "IND_SIZE=12\n",
      "\n",
      "toolbox = base.Toolbox()\n",
      "toolbox.register(\"attr_float\", random.random)\n",
      "toolbox.register(\"individual\", tools.initRepeat, creator.Individual,\n",
      "                 toolbox.attr_float, n=IND_SIZE)\n",
      "toolbox.register(\"population\", tools.initRepeat, list, toolbox.individual)\n",
      "toolbox.register(\"evaluate\", test_fitness)\n",
      "toolbox.register(\"mate\", tools.cxTwoPoint)\n",
      "toolbox.register(\"mutate\", tools.mutGaussian, mu=0, sigma=1, indpb=0.2)\n",
      "toolbox.register(\"select\", tools.selTournament, tournsize=3)"
     ],
     "language": "python",
     "metadata": {},
     "outputs": [],
     "prompt_number": 12
    },
    {
     "cell_type": "code",
     "collapsed": false,
     "input": [
      "def checkMin(min):\n",
      "    def decorator(func):\n",
      "        def wrapper(*args, **kargs):\n",
      "            offspring = func(*args, **kargs)\n",
      "            for child in offspring:\n",
      "                for i in xrange(len(child)):\n",
      "                    if child[i] < min:\n",
      "                        child[i] = min\n",
      "            return offspring\n",
      "        return wrapper\n",
      "    return decorator\n",
      "\n",
      "toolbox.decorate(\"mate\", checkMin(0.001))\n",
      "toolbox.decorate(\"mutate\", checkMin(0.001))"
     ],
     "language": "python",
     "metadata": {},
     "outputs": [],
     "prompt_number": 13
    },
    {
     "cell_type": "code",
     "collapsed": false,
     "input": [
      "def evolve(n=20, ngen=5):\n",
      "    pop = toolbox.population(n=n)\n",
      "    hof = tools.HallOfFame(1)\n",
      "    stats = tools.Statistics(lambda ind: ind.fitness.values)\n",
      "    stats.register(\"avg\", np.mean)\n",
      "    stats.register(\"std\", np.std)\n",
      "    stats.register(\"min\", np.min)\n",
      "    stats.register(\"max\", np.max)\n",
      "    \n",
      "    pop, log = algorithms.eaSimple(pop, toolbox, cxpb=0.5, mutpb=0.2, ngen=ngen, \n",
      "                                   stats=stats, halloffame=hof, verbose=True)\n",
      "    return pop, log"
     ],
     "language": "python",
     "metadata": {},
     "outputs": [],
     "prompt_number": 14
    },
    {
     "cell_type": "code",
     "collapsed": false,
     "input": [
      "def vis_pop(n=10):\n",
      "    pop = toolbox.population(n=n)\n",
      "    for i,individual in enumerate(pop):\n",
      "        print i\n",
      "        basis = individual[0:6]\n",
      "        tets = individual[6:]\n",
      "        the_uc = UnitCell(basis, tets)\n",
      "        print the_uc.aspect\n",
      "        fname = \"pop_%d.STEP\" % i\n",
      "        the_uc.export(fname, full=True, cell=True)"
     ],
     "language": "python",
     "metadata": {},
     "outputs": [],
     "prompt_number": 15
    },
    {
     "cell_type": "code",
     "collapsed": false,
     "input": [
      "vis_pop(10)"
     ],
     "language": "python",
     "metadata": {},
     "outputs": [
      {
       "output_type": "stream",
       "stream": "stdout",
       "text": [
        "0\n",
        "4.9370756286"
       ]
      },
      {
       "output_type": "stream",
       "stream": "stdout",
       "text": [
        "\n",
        "STEP transfer successful."
       ]
      }
     ],
     "prompt_number": "*"
    },
    {
     "cell_type": "code",
     "collapsed": false,
     "input": [
      "pop, log = evolve(n=10, ngen=30)"
     ],
     "language": "python",
     "metadata": {},
     "outputs": [],
     "prompt_number": "*"
    },
    {
     "cell_type": "code",
     "collapsed": false,
     "input": [
      "for i,ind in enumerate(pop):\n",
      "    print i,test_fitness(ind)"
     ],
     "language": "python",
     "metadata": {},
     "outputs": [],
     "prompt_number": "*"
    },
    {
     "cell_type": "code",
     "collapsed": false,
     "input": [
      "print pop[0]"
     ],
     "language": "python",
     "metadata": {},
     "outputs": [],
     "prompt_number": "*"
    },
    {
     "cell_type": "code",
     "collapsed": false,
     "input": [
      "def visualize(individual):\n",
      "    basis = individual[0:6]\n",
      "    tets = individual[6:]\n",
      "    the_uc = UnitCell(basis, tets)\n",
      "    print the_uc.ucvol, the_uc.unionvol, the_uc.external_overlap, the_uc.aspect\n",
      "    the_uc.export(\"vis.STEP\", full=True)"
     ],
     "language": "python",
     "metadata": {},
     "outputs": [],
     "prompt_number": 15
    },
    {
     "cell_type": "code",
     "collapsed": false,
     "input": [
      "visualize(pop[0])"
     ],
     "language": "python",
     "metadata": {},
     "outputs": [],
     "prompt_number": "*"
    },
    {
     "cell_type": "code",
     "collapsed": false,
     "input": [
      "vec = uctest.basis[0]"
     ],
     "language": "python",
     "metadata": {},
     "outputs": [],
     "prompt_number": 16
    },
    {
     "cell_type": "code",
     "collapsed": false,
     "input": [
      "vec.Magnitude()"
     ],
     "language": "python",
     "metadata": {},
     "outputs": [
      {
       "metadata": {},
       "output_type": "pyout",
       "prompt_number": 17,
       "text": [
        "1.0"
       ]
      }
     ],
     "prompt_number": 17
    },
    {
     "cell_type": "code",
     "collapsed": false,
     "input": [
      "transvec = OCC.gp.gp_Vec(vec)\n",
      "transvec.Multiply(2.0)\n",
      "print transvec.Magnitude(), vec.Magnitude()"
     ],
     "language": "python",
     "metadata": {},
     "outputs": [
      {
       "output_type": "stream",
       "stream": "stdout",
       "text": [
        "4.0 2.0\n"
       ]
      }
     ],
     "prompt_number": 19
    },
    {
     "cell_type": "code",
     "collapsed": false,
     "input": [],
     "language": "python",
     "metadata": {},
     "outputs": []
    },
    {
     "cell_type": "code",
     "collapsed": false,
     "input": [],
     "language": "python",
     "metadata": {},
     "outputs": []
    },
    {
     "cell_type": "code",
     "collapsed": false,
     "input": [],
     "language": "python",
     "metadata": {},
     "outputs": []
    },
    {
     "cell_type": "heading",
     "level": 3,
     "metadata": {},
     "source": [
      "nsites=2"
     ]
    },
    {
     "cell_type": "code",
     "collapsed": false,
     "input": [
      "# fitness weights for unit cell.\n",
      "creator.create(\"FitnessUC\", base.Fitness, weights=(1.0, ))\n",
      "creator.create(\"Individual\", list, fitness=creator.FitnessUC)\n",
      "\n",
      "# 6 for unit cell, 6 for each tetrahedron\n",
      "IND_SIZE=18\n",
      "\n",
      "toolbox = base.Toolbox()\n",
      "toolbox.register(\"attr_float\", random.random)\n",
      "toolbox.register(\"individual\", tools.initRepeat, creator.Individual,\n",
      "                 toolbox.attr_float, n=IND_SIZE)\n",
      "toolbox.register(\"population\", tools.initRepeat, list, toolbox.individual)\n",
      "toolbox.register(\"evaluate\", test_fitness)\n",
      "toolbox.register(\"mate\", tools.cxTwoPoint)\n",
      "toolbox.register(\"mutate\", tools.mutGaussian, mu=0, sigma=1, indpb=0.2)\n",
      "toolbox.register(\"select\", tools.selTournament, tournsize=3)"
     ],
     "language": "python",
     "metadata": {},
     "outputs": [],
     "prompt_number": 16
    },
    {
     "cell_type": "code",
     "collapsed": false,
     "input": [
      "pop, log = evolve(n=100, ngen=30)"
     ],
     "language": "python",
     "metadata": {},
     "outputs": [
      {
       "output_type": "stream",
       "stream": "stdout",
       "text": [
        "gen\tnevals\tavg     \tstd    \tmin     \tmax     \n",
        "0  \t100   \t-33.5242\t245.334\t-2467.38\t-1.52794\n",
        "1  \t45    \t-2.90699\t1.13338\t-8.24531\t-1.46949"
       ]
      },
      {
       "output_type": "stream",
       "stream": "stdout",
       "text": [
        "\n",
        "2  \t58    \t-2.40407\t1.06008\t-10.7495\t-1.27143"
       ]
      },
      {
       "output_type": "stream",
       "stream": "stdout",
       "text": [
        "\n",
        "3  \t58    \t-2.09315\t1.72176\t-17.8686\t-0.943829"
       ]
      },
      {
       "output_type": "stream",
       "stream": "stdout",
       "text": [
        "\n",
        "4  \t57    \t-1.61615\t0.43768\t-4.22319\t-0.943829"
       ]
      },
      {
       "output_type": "stream",
       "stream": "stdout",
       "text": [
        "\n",
        "5  \t53    \t-1.5035 \t0.457466\t-3.51736\t-0.843063"
       ]
      },
      {
       "output_type": "stream",
       "stream": "stdout",
       "text": [
        "\n",
        "6  \t72    \t-1.37745\t0.40662 \t-3.83315\t-0.843063"
       ]
      },
      {
       "output_type": "stream",
       "stream": "stdout",
       "text": [
        "\n",
        "7  \t58    \t-1.57982\t2.40068 \t-23.6155\t-0.664713"
       ]
      },
      {
       "output_type": "stream",
       "stream": "stdout",
       "text": [
        "\n",
        "8  \t62    \t-1.25306\t0.450273\t-2.74784\t-0.737457"
       ]
      },
      {
       "output_type": "stream",
       "stream": "stdout",
       "text": [
        "\n",
        "9  \t59    \t-1.18017\t0.525326\t-3.57374\t-0.664713"
       ]
      },
      {
       "output_type": "stream",
       "stream": "stdout",
       "text": [
        "\n",
        "10 \t56    \t-1.12308\t0.541176\t-4.82659\t-0.664713"
       ]
      },
      {
       "output_type": "stream",
       "stream": "stdout",
       "text": [
        "\n",
        "11 \t62    \t-1.17334\t1.67761 \t-17.4937\t-0.664713"
       ]
      },
      {
       "output_type": "stream",
       "stream": "stdout",
       "text": [
        "\n",
        "12 \t57    \t-0.938727\t0.501978\t-5.18606\t-0.664713"
       ]
      },
      {
       "output_type": "stream",
       "stream": "stdout",
       "text": [
        "\n",
        "13 \t65    \t-1.32579 \t2.45936 \t-19.1023\t-0.664713"
       ]
      },
      {
       "output_type": "stream",
       "stream": "stdout",
       "text": [
        "\n",
        "14 \t63    \t-1.00456 \t0.649619\t-5.08913\t-0.664713"
       ]
      },
      {
       "output_type": "stream",
       "stream": "stdout",
       "text": [
        "\n",
        "15 \t54    \t-1.08183 \t1.12966 \t-8.94658\t-0.664713"
       ]
      },
      {
       "output_type": "stream",
       "stream": "stdout",
       "text": [
        "\n",
        "16 \t69    \t-0.846871\t0.357332\t-2.49814\t-0.663172"
       ]
      },
      {
       "output_type": "stream",
       "stream": "stdout",
       "text": [
        "\n",
        "17 \t56    \t-0.831008\t0.552027\t-5.27482\t-0.663172"
       ]
      },
      {
       "output_type": "stream",
       "stream": "stdout",
       "text": [
        "\n",
        "18 \t62    \t-1.0102  \t1.91767 \t-19.3718\t-0.663172"
       ]
      },
      {
       "output_type": "stream",
       "stream": "stdout",
       "text": [
        "\n",
        "19 \t60    \t-0.967406\t0.705843\t-4.78626\t-0.663172"
       ]
      },
      {
       "output_type": "stream",
       "stream": "stdout",
       "text": [
        "\n",
        "20 \t65    \t-0.962001\t1.14961 \t-10.9967\t-0.663172"
       ]
      },
      {
       "output_type": "stream",
       "stream": "stdout",
       "text": [
        "\n",
        "21 \t57    \t-0.818363\t0.435699\t-3.15895\t-0.661666"
       ]
      },
      {
       "output_type": "stream",
       "stream": "stdout",
       "text": [
        "\n",
        "22 \t62    \t-0.961038\t1.15843 \t-11.9328\t-0.661666"
       ]
      },
      {
       "output_type": "stream",
       "stream": "stdout",
       "text": [
        "\n",
        "23 \t68    \t-0.919737\t0.825234\t-6.87103\t-0.661666"
       ]
      },
      {
       "output_type": "stream",
       "stream": "stdout",
       "text": [
        "\n",
        "24 \t63    \t-0.91885 \t0.95951 \t-9.16483\t-0.661666"
       ]
      },
      {
       "output_type": "stream",
       "stream": "stdout",
       "text": [
        "\n",
        "25 \t57    \t-0.932892\t0.746114\t-5.66179\t-0.661666"
       ]
      },
      {
       "output_type": "stream",
       "stream": "stdout",
       "text": [
        "\n",
        "26 \t55    \t-0.87188 \t0.803016\t-8.03373\t-0.661666"
       ]
      },
      {
       "output_type": "stream",
       "stream": "stdout",
       "text": [
        "\n",
        "27 \t59    \t-0.879593\t0.613832\t-5.10402\t-0.661666"
       ]
      },
      {
       "output_type": "stream",
       "stream": "stdout",
       "text": [
        "\n",
        "28 \t58    \t-0.934867\t1.0321  \t-8.75796\t-0.661666"
       ]
      },
      {
       "output_type": "stream",
       "stream": "stdout",
       "text": [
        "\n",
        "29 \t66    \t-0.931748\t0.65983 \t-5.83775\t-0.661666"
       ]
      },
      {
       "output_type": "stream",
       "stream": "stdout",
       "text": [
        "\n",
        "30 \t76    \t-1.01262 \t0.879737\t-5.99931\t-0.661666"
       ]
      },
      {
       "output_type": "stream",
       "stream": "stdout",
       "text": [
        "\n"
       ]
      }
     ],
     "prompt_number": 17
    },
    {
     "cell_type": "code",
     "collapsed": false,
     "input": [
      "len(pop)"
     ],
     "language": "python",
     "metadata": {},
     "outputs": [
      {
       "metadata": {},
       "output_type": "pyout",
       "prompt_number": 21,
       "text": [
        "100"
       ]
      }
     ],
     "prompt_number": 21
    },
    {
     "cell_type": "code",
     "collapsed": false,
     "input": [
      "pop[0]"
     ],
     "language": "python",
     "metadata": {},
     "outputs": [
      {
       "metadata": {},
       "output_type": "pyout",
       "prompt_number": 22,
       "text": [
        "[3.365219156037865,\n",
        " 0.3081500004969465,\n",
        " 0.9867454071354592,\n",
        " 0.6338676872222916,\n",
        " 0.3271529543936925,\n",
        " 3.1753981206415656,\n",
        " 0.38791885580259544,\n",
        " 0.8088515729981512,\n",
        " -0.4369988828201328,\n",
        " -2.539935481819511,\n",
        " -0.5109417499408158,\n",
        " 0.2112356415349843,\n",
        " 0.7975405978818081,\n",
        " 0.08741358865033874,\n",
        " 1.7123167577411502,\n",
        " 0.10953314703890482,\n",
        " 0.5832445562780203,\n",
        " 1.0553337647871555]"
       ]
      }
     ],
     "prompt_number": 22
    },
    {
     "cell_type": "code",
     "collapsed": false,
     "input": [
      "visualize(pop[0])"
     ],
     "language": "python",
     "metadata": {},
     "outputs": [
      {
       "output_type": "stream",
       "stream": "stdout",
       "text": [
        "10.5442731895 0.235702260396 0.234399164829 3.424691096\n",
        "STEP transfer successful."
       ]
      },
      {
       "output_type": "stream",
       "stream": "stdout",
       "text": [
        "\n"
       ]
      }
     ],
     "prompt_number": 23
    },
    {
     "cell_type": "code",
     "collapsed": false,
     "input": [
      "for i in xrange(int(np.floor(2.3))):\n",
      "    print i"
     ],
     "language": "python",
     "metadata": {},
     "outputs": [
      {
       "output_type": "stream",
       "stream": "stdout",
       "text": [
        "0\n",
        "1\n"
       ]
      }
     ],
     "prompt_number": 8
    },
    {
     "cell_type": "code",
     "collapsed": false,
     "input": [
      "np.arange(start=1.0, stop=np.ceil(2.3))"
     ],
     "language": "python",
     "metadata": {},
     "outputs": [
      {
       "metadata": {},
       "output_type": "pyout",
       "prompt_number": 16,
       "text": [
        "array([ 1.,  2.])"
       ]
      }
     ],
     "prompt_number": 16
    },
    {
     "cell_type": "code",
     "collapsed": false,
     "input": [
      "triples = product([1,2,3], repeat=3)\n",
      "len(list(combinations(triples, 2)))\n"
     ],
     "language": "python",
     "metadata": {},
     "outputs": [
      {
       "metadata": {},
       "output_type": "pyout",
       "prompt_number": 11,
       "text": [
        "351"
       ]
      }
     ],
     "prompt_number": 11
    },
    {
     "cell_type": "code",
     "collapsed": false,
     "input": [
      "list(product(xrange(0,2), repeat=2))"
     ],
     "language": "python",
     "metadata": {},
     "outputs": [
      {
       "metadata": {},
       "output_type": "pyout",
       "prompt_number": 9,
       "text": [
        "[(0, 0), (0, 1), (1, 0), (1, 1)]"
       ]
      }
     ],
     "prompt_number": 9
    },
    {
     "cell_type": "code",
     "collapsed": false,
     "input": [],
     "language": "python",
     "metadata": {},
     "outputs": []
    }
   ],
   "metadata": {}
  }
 ]
}