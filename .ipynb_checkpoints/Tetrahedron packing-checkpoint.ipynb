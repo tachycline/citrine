{
 "metadata": {
  "name": "",
  "signature": "sha256:65e80008eabe7a84a3c5b351ec328ea8981907c5f6b945969608bad0c0768206"
 },
 "nbformat": 3,
 "nbformat_minor": 0,
 "worksheets": [
  {
   "cells": [
    {
     "cell_type": "code",
     "collapsed": false,
     "input": [],
     "language": "python",
     "metadata": {},
     "outputs": []
    }
   ],
   "metadata": {}
  }
 ]
}